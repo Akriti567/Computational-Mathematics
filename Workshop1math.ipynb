{
  "cells": [
    {
      "cell_type": "markdown",
      "metadata": {
        "id": "l6gRjtKzFpui"
      },
      "source": [
        "## Python Workshop 1 Exercises"
      ]
    },
    {
      "cell_type": "markdown",
      "source": [
        "**A.Write a function that returns sum of two numbers**"
      ],
      "metadata": {
        "id": "F_Sfo-vxUT2B"
      }
    },
    {
      "cell_type": "code",
      "source": [
        "def add(a,b):\n",
        "  add=a+b\n",
        "  return add\n",
        "a=4\n",
        "b=7\n",
        "print(add(a,b))"
      ],
      "metadata": {
        "colab": {
          "base_uri": "https://localhost:8080/"
        },
        "id": "J-GD2BAeUc6g",
        "outputId": "33d52965-64ae-44c9-8781-0bcb31db0eee"
      },
      "execution_count": null,
      "outputs": [
        {
          "output_type": "stream",
          "name": "stdout",
          "text": [
            "11\n"
          ]
        }
      ]
    },
    {
      "cell_type": "markdown",
      "source": [
        "**B. Write a function that returns y where y=3x+2.**"
      ],
      "metadata": {
        "id": "WC_2rP2KUdz8"
      }
    },
    {
      "cell_type": "code",
      "source": [
        "def f(x):\n",
        "  y=3*x+2\n",
        "  return y\n",
        "x=int(input('Enter a number: '));\n",
        "print(f(x))"
      ],
      "metadata": {
        "colab": {
          "base_uri": "https://localhost:8080/"
        },
        "id": "dpC-hCGXUeuZ",
        "outputId": "b807137c-117e-4f8a-e764-b799fb55bb71"
      },
      "execution_count": null,
      "outputs": [
        {
          "output_type": "stream",
          "name": "stdout",
          "text": [
            "Enter a number: 1\n",
            "5\n"
          ]
        }
      ]
    },
    {
      "cell_type": "markdown",
      "source": [
        "**C.Write a function that calculate g(x) = x^2+2x+3.**"
      ],
      "metadata": {
        "id": "xdxTogoFUfOu"
      }
    },
    {
      "cell_type": "code",
      "source": [
        "def g(x):\n",
        "  y= x^2+2*x+3\n",
        "  return y\n",
        "x=int(input('Enter a number: '));\n",
        "print (g(x))"
      ],
      "metadata": {
        "colab": {
          "base_uri": "https://localhost:8080/"
        },
        "id": "HnqXboPqUgce",
        "outputId": "bc3c3696-2ca3-4da5-e990-b111feb619dc"
      },
      "execution_count": null,
      "outputs": [
        {
          "output_type": "stream",
          "name": "stdout",
          "text": [
            "Enter a number: 1\n",
            "6\n"
          ]
        }
      ]
    },
    {
      "cell_type": "markdown",
      "source": [
        "**D. Write a function f(x)=x^2 where x is an array [1,2,3,4,5] and the function returns y that is an array**"
      ],
      "metadata": {
        "id": "yooTZn3mUhA0"
      }
    },
    {
      "cell_type": "code",
      "source": [
        "def g(x):\n",
        "  y=[] #defining y as an array\n",
        "  for values in x:\n",
        "    y.append(values**2)#adding in a list is called append\n",
        "  return y\n",
        "a=[1,2,3,4,5]\n",
        "print(g(a))"
      ],
      "metadata": {
        "colab": {
          "base_uri": "https://localhost:8080/"
        },
        "id": "VjhTy_BDWy93",
        "outputId": "b3c2088a-fade-4d67-d124-f6bf62704119"
      },
      "execution_count": null,
      "outputs": [
        {
          "output_type": "stream",
          "name": "stdout",
          "text": [
            "[1, 4, 9, 16, 25]\n"
          ]
        }
      ]
    },
    {
      "cell_type": "markdown",
      "source": [
        "**E. Write a function i(x)=3x+2 that takes x as an array [-4,-3,-2,-1,0,1,2,3,4] and returns y. Also plot it in graph.**"
      ],
      "metadata": {
        "id": "raEcnCexXpLi"
      }
    },
    {
      "cell_type": "code",
      "source": [
        "import matplotlib.pyplot as plt\n",
        "def i(x):\n",
        "  y=[]\n",
        "  for values in x:\n",
        "    y.append(3*values+2)\n",
        "  return y\n",
        "a=[-4,-3,-2,-1,0,1,2,3,4] \n",
        "print(i(a))\n",
        "plt.title(\"Plotting the graph of y=3x+2\")#title of the whole graph\n",
        "plt.plot(a,i(a))\n",
        "plt.ylabel('Values of y') #label of y-axis\n",
        "plt.xlabel('Values of x') #Label of x-axis"
      ],
      "metadata": {
        "colab": {
          "base_uri": "https://localhost:8080/",
          "height": 330
        },
        "id": "sl0ibebmX_ek",
        "outputId": "b0c02944-90d8-4fae-9718-d3005d5af047"
      },
      "execution_count": null,
      "outputs": [
        {
          "output_type": "stream",
          "name": "stdout",
          "text": [
            "[-10, -7, -4, -1, 2, 5, 8, 11, 14]\n"
          ]
        },
        {
          "output_type": "execute_result",
          "data": {
            "text/plain": [
              "Text(0.5, 0, 'Values of x')"
            ]
          },
          "metadata": {},
          "execution_count": 24
        },
        {
          "output_type": "display_data",
          "data": {
            "text/plain": [
              "<Figure size 432x288 with 1 Axes>"
            ],
            "image/png": "[encoded data removed]"
          },
          "metadata": {
            "needs_background": "light"
          }
        }
      ]
    },
    {
      "cell_type": "markdown",
      "source": [
        "**F. Write a function j(x)=x^2that takes x as an array [-4,-3,-2,-1,0,1,2,3,4] and returns y. Also plot it in graph.**"
      ],
      "metadata": {
        "id": "fDOv5-DRb25a"
      }
    },
    {
      "cell_type": "code",
      "source": [
        "import matplotlib.pyplot as plt\n",
        "def j(x):\n",
        "  y=[]\n",
        "  for values in x:\n",
        "    y.append(values**2)\n",
        "  return y\n",
        "a=[-4,-3,-2,-1,0,1,2,3,4] \n",
        "print(i(a))\n",
        "plt.title(\"Plotting the graph of y=3x+2\")#title of the whole graph\n",
        "plt.plot(a,j(a))\n",
        "plt.ylabel('Values of y') #label of y-axis\n",
        "plt.xlabel('Values of x') #Label of x-axis"
      ],
      "metadata": {
        "colab": {
          "base_uri": "https://localhost:8080/",
          "height": 330
        },
        "id": "Cc861npXcN53",
        "outputId": "d62e0f12-c85b-4684-ff6f-420f31fb62b2"
      },
      "execution_count": null,
      "outputs": [
        {
          "output_type": "stream",
          "name": "stdout",
          "text": [
            "[16, 9, 4, 1, 0, 1, 4, 9, 16]\n"
          ]
        },
        {
          "output_type": "execute_result",
          "data": {
            "text/plain": [
              "Text(0.5, 0, 'Values of x')"
            ]
          },
          "metadata": {},
          "execution_count": 26
        },
        {
          "output_type": "display_data",
          "data": {
            "text/plain": [
              "<Figure size 432x288 with 1 Axes>"
            ],
            "image/png": "[encoded data removed]"
          },
          "metadata": {
            "needs_background": "light"
          }
        }
      ]
    },
    {
      "cell_type": "markdown",
      "source": [
        "**G. Write a function f(X)=x-2 and g(x)=3x+2 and print gof(x)=g(f(x))**"
      ],
      "metadata": {
        "id": "IN8PHkUrdGD3"
      }
    },
    {
      "cell_type": "code",
      "source": [
        "def f(x):\n",
        "  a=x-2\n",
        "  return a\n",
        "def g(x):\n",
        "  b=3*x+2\n",
        "  return b\n",
        "x=int(input(\"Enter a number\"))\n",
        "print (g(f(x)))"
      ],
      "metadata": {
        "colab": {
          "base_uri": "https://localhost:8080/"
        },
        "id": "orrUheoEddxU",
        "outputId": "119e2cac-62f5-4a60-da72-7322ffb732a1"
      },
      "execution_count": null,
      "outputs": [
        {
          "output_type": "stream",
          "name": "stdout",
          "text": [
            "Enter a number 3\n",
            "5\n"
          ]
        }
      ]
    },
    {
      "cell_type": "markdown",
      "metadata": {
        "id": "NNID4fCDFpuo"
      },
      "source": [
        "<div class=\"alert alert-block alert-info\">\n",
        "<font color=\"black\">Suppose we don’t know the formula for the sum and want to use a “brute force” approach.  We can calculate the sum <i>1 + 2 + ... + n</i>  using a loop:</font> </div>"
      ]
    },
    {
      "cell_type": "markdown",
      "metadata": {
        "id": "eAoKnvvrFpuq"
      },
      "source": [
        "<code>sum1n = 0\n",
        "i = 1\n",
        "while i <= n:\n",
        "    sum1n += i  # same as sum1n = sum1n + i\n",
        "    i += 1 </code>"
      ]
    },
    {
      "cell_type": "markdown",
      "metadata": {
        "id": "tj0pAINLFpur"
      },
      "source": [
        "<div class=\"alert alert-block alert-info\"><font color=\"black\">This loop can also be nested within another loop to calculate a series of numbers:</font></div>"
      ]
    },
    {
      "cell_type": "markdown",
      "metadata": {
        "id": "Qp_xAi57Fpus"
      },
      "source": [
        "<code>## Sums1toN program\n",
        "nMax = 10\n",
        "n = 1\n",
        "while n <= nMax:\n",
        "    sum1n = 0\n",
        "    i = 1\n",
        "    while i <= n:\n",
        "        sum1n += i\n",
        "        i += 1\n",
        "    print('{0:3d} {1:6d}'.format(n, sum1n))\n",
        "    n += 1 </code>"
      ]
    },
    {
      "cell_type": "markdown",
      "metadata": {
        "id": "CuTGjNxFFpus"
      },
      "source": [
        "<div class=\"alert alert-block alert-info\"><font color=\"black\">Type in the little program above into the cell below.  To run it select the cell and then press the <b>run-button</b> from the button bar above. Test the program and ensure it runs correctly.</font></div>"
      ]
    },
    {
      "cell_type": "code",
      "execution_count": null,
      "metadata": {
        "colab": {
          "base_uri": "https://localhost:8080/"
        },
        "id": "KQS02LrkFput",
        "outputId": "202cbc83-037d-4c3c-b9d8-98944e12807e"
      },
      "outputs": [
        {
          "output_type": "stream",
          "name": "stdout",
          "text": [
            "  1      1\n",
            "  2      3\n",
            "  3      6\n",
            "  4     10\n",
            "  5     15\n",
            "  6     21\n",
            "  7     28\n",
            "  8     36\n",
            "  9     45\n",
            " 10     55\n"
          ]
        }
      ],
      "source": [
        "nMax = 10\n",
        "n = 1\n",
        "while n <= nMax:\n",
        "    sum1n = 0\n",
        "    i = 1\n",
        "    while i <= n:\n",
        "        sum1n += i\n",
        "        i += 1\n",
        "    print('{0:3d} {1:6d}'.format(n, sum1n))\n",
        "    n += 1 "
      ]
    },
    {
      "cell_type": "markdown",
      "metadata": {
        "id": "FPF-E_7CFpuv"
      },
      "source": [
        "<div class=\"alert alert-block alert-danger\">\n",
        "Now try to write the Python code to answer the following questions in the cells below \n",
        "</div>"
      ]
    },
    {
      "cell_type": "markdown",
      "metadata": {
        "id": "tEyVhZ9IFpuv"
      },
      "source": [
        "#### <font color=\"red\"><b>1.</b></font> Modify the Sums1toN.py program to accept only an odd positive integer nMax from the user and print the sums of positive odd integers for *n = 1, 3, ..., nMax.*"
      ]
    },
    {
      "cell_type": "code",
      "source": [
        "num = input (\"enter a number\")\n",
        "num = int(num)\n",
        "n=1\n",
        "sum=0 \n",
        "if(num%2==1 and n>0):\n",
        "  while(n<=num):\n",
        "    sum=n+sum\n",
        "    print(\"{0:3d}{1:6d}\".format(n,sum))\n",
        "    n=n+2\n",
        "\n",
        "else:\n",
        "  print(\"please enter odd number\")\n"
      ],
      "metadata": {
        "id": "cyZIjF6skq5p",
        "colab": {
          "base_uri": "https://localhost:8080/"
        },
        "outputId": "2386b3cd-0606-4228-d22c-7adb9e71ca56"
      },
      "execution_count": 21,
      "outputs": [
        {
          "output_type": "stream",
          "name": "stdout",
          "text": [
            "enter a number15\n",
            "  1     1\n",
            "  3     4\n",
            "  5     9\n",
            "  7    16\n",
            "  9    25\n",
            " 11    36\n",
            " 13    49\n",
            " 15    64\n"
          ]
        }
      ]
    },
    {
      "cell_type": "markdown",
      "metadata": {
        "id": "H-0KtUDjFpux"
      },
      "source": [
        "#### <font color=\"red\"><b>2.</b></font> Write a program that prompts the user for a positive integer n and prints all positive multiples of 6 *ie. (6, 12, 18, etc.)* that do not exceed n."
      ]
    },
    {
      "cell_type": "code",
      "execution_count": 16,
      "metadata": {
        "id": "OHVKTcUOFpux",
        "colab": {
          "base_uri": "https://localhost:8080/",
          "height": 0
        },
        "outputId": "860c7f6f-bea4-42bb-8d00-983a93d5c182"
      },
      "outputs": [
        {
          "output_type": "stream",
          "name": "stdout",
          "text": [
            "enter a number49\n",
            "  0\n",
            "  6\n",
            " 12\n",
            " 18\n",
            " 24\n",
            " 30\n",
            " 36\n",
            " 42\n",
            " 48\n"
          ]
        }
      ],
      "source": [
        "num = input (\"enter a number\")\n",
        "num = int(num)\n",
        "n=0\n",
        "while n<=num:\n",
        "  print('{0:3d}'.format(n))\n",
        "  n =n+6\n"
      ]
    },
    {
      "cell_type": "markdown",
      "metadata": {
        "id": "t2n0vOCjFpuy"
      },
      "source": [
        "#### <font color=\"red\"><b>3.</b></font> Using Sums1toN.py as a prototype, write a program that prompts the user to enter a positive integer nMax and displays n and n! (n-factorial) for n from 1 to nMax.   .  "
      ]
    },
    {
      "cell_type": "code",
      "execution_count": 17,
      "metadata": {
        "colab": {
          "base_uri": "https://localhost:8080/",
          "height": 0
        },
        "id": "bvoK2e5IFpuy",
        "outputId": "23831284-0995-4889-8303-8fe53fa04189"
      },
      "outputs": [
        {
          "output_type": "stream",
          "name": "stdout",
          "text": [
            "enter a number7\n",
            "  0!     1\n",
            "  1!     1\n",
            "  2!     2\n",
            "  3!     6\n",
            "  4!    24\n",
            "  5!   120\n",
            "  6!   720\n",
            "  7!  5040\n"
          ]
        }
      ],
      "source": [
        "nmax = input(\"enter a number\")\n",
        "nmax = int(nmax)\n",
        "n=0\n",
        "while n<=nmax:\n",
        "  sum1n = 1\n",
        "  i = 1\n",
        "  while i<=n:\n",
        "    sum1n *=i\n",
        "    i = i+1\n",
        "  print ('{0:3d}!{1:6d}'.format(n,sum1n))\n",
        "  n = n+1\n",
        "  "
      ]
    },
    {
      "cell_type": "markdown",
      "metadata": {
        "id": "m4JnEfqxFpuz"
      },
      "source": [
        "<div class=\"alert alert-block alert-danger\"><b>Note:</b> most of the programs for this module do not require you to use the <i>input</i> statement to load data into your code. To avoid loosing marks (for over use of the input statement) You should only use input statements where the question includes the phrases like <font color=\"red\"><i>\"prompts the user..\"</i></font>, <font color=\"red\"><i>\"from the user..\"</i></font> or <font color=\"red\"><i>\"ask the user..\"</i></font>. <b>ie. for questions 4,5 & 6 hard code the data in the program</b></div>"
      ]
    },
    {
      "cell_type": "markdown",
      "metadata": {
        "id": "Qwh-dp4FFpuz"
      },
      "source": [
        "#### <font color=\"red\"><b>4.</b></font> Write a program that prints n, $ s_{1}(n)=\\sum \\limits _{k=1} ^{n} k $ , $ s_{2}(n)=\\sum \\limits _{k=1} ^{n} k ^{2} $ , and  $ \\frac{3s_{2}(n)}{s_{1}(n)} $ for n = 1, 2, 3, ..., 20.  Try to guess the general formula for  $ \\sum \\limits _{k=1} ^{n} k ^{2} $ from the resulting table."
      ]
    },
    {
      "cell_type": "code",
      "execution_count": 14,
      "metadata": {
        "id": "xqkMjTInFpuz",
        "colab": {
          "base_uri": "https://localhost:8080/",
          "height": 0
        },
        "outputId": "d2e1c0b8-0f8d-4048-cd1d-d5d4a4ad74b4"
      },
      "outputs": [
        {
          "output_type": "stream",
          "name": "stdout",
          "text": [
            "enter a number5\n",
            "  1      1      1      3\n",
            "  2      3      5      5\n",
            "  3      6     14      7\n",
            "  4     10     30      9\n",
            "  5     15     55     11\n"
          ]
        }
      ],
      "source": [
        "num = input(\"enter a number\")\n",
        "num =  int(num)\n",
        "n=1\n",
        "while n<=num:\n",
        "  s1 = 0\n",
        "  k = 1\n",
        "  while k <=n:\n",
        "    s1 += k\n",
        "    k += 1\n",
        "  s2 = 0\n",
        "  k = 1\n",
        "  while k <= n:\n",
        "      s2 += k**2\n",
        "      k += 1\n",
        "  s3 = 3*s2//s1\n",
        "  print('{0:3d} {1:6d} {2:6d} {3:6d}'.format(n,s1,s2,s3))\n",
        "  n += 1"
      ]
    },
    {
      "cell_type": "markdown",
      "metadata": {
        "id": "6DtmF17_Fpu0"
      },
      "source": [
        "#### <font color=\"red\"><b>5.</b></font> Write a function printSquare(n) that displays a “square” whose side has n stars.  For example, for n = 5, the output should be: "
      ]
    },
    {
      "cell_type": "markdown",
      "metadata": {
        "id": "GrsA----Fpu0"
      },
      "source": [
        "`*****`<br>\n",
        "`*   *`<br>\n",
        "`*   *`<br>\n",
        "`*   *`<br>\n",
        "`*****`<br>"
      ]
    },
    {
      "cell_type": "markdown",
      "metadata": {
        "id": "45UfRfTrFpu1"
      },
      "source": [
        "##### Use only one while loop.  (Actually, in Python, you can write this function without any loops, on one line.  Can you figure out how?) "
      ]
    },
    {
      "cell_type": "code",
      "execution_count": 18,
      "metadata": {
        "id": "f7J1RyVaFpu2",
        "colab": {
          "base_uri": "https://localhost:8080/",
          "height": 0
        },
        "outputId": "72cc5355-f425-411a-ee3e-560e4ffa983e"
      },
      "outputs": [
        {
          "output_type": "stream",
          "name": "stdout",
          "text": [
            "Please Enter any Side of a Square : 5\n",
            "Hollow Square Star Pattern\n",
            "* * * * * \n",
            "*       * \n",
            "*       * \n",
            "*       * \n",
            "* * * * * \n"
          ]
        }
      ],
      "source": [
        "side = int(input(\"Please Enter any Side of a Square : \"))\n",
        "\n",
        "print(\"Hollow Square Star Pattern\")\n",
        "for i in range(side):\n",
        "  for j in range(side):\n",
        "    if(i == 0 or i == side - 1 or j == 0 or j == side - 1):\n",
        "      print('*', end = ' ')\n",
        "    else:  \n",
        "      print(' ', end = ' ')\n",
        "  print()"
      ]
    },
    {
      "cell_type": "markdown",
      "metadata": {
        "id": "CtoUm-sTFpu3"
      },
      "source": [
        "#### <font color=\"red\"><b>6.</b></font> Write a function <i>myPow(x, n)</i> that returns $x ^{n}$, where   and n is a non-negative integer.  Do not use the ** operator or the math.pow function — use one <i>while</i> loop.  Hint:  $ x ^{0} = 1 $.  "
      ]
    },
    {
      "cell_type": "code",
      "execution_count": null,
      "metadata": {
        "colab": {
          "base_uri": "https://localhost:8080/"
        },
        "id": "tkmJRYRjFpu3",
        "outputId": "c18b5e0d-172c-4874-b7ee-e52886376110"
      },
      "outputs": [
        {
          "output_type": "execute_result",
          "data": {
            "text/plain": [
              "16"
            ]
          },
          "metadata": {},
          "execution_count": 33
        }
      ],
      "source": [
        "def myPow(x, n):\n",
        "    res = 1\n",
        "  \n",
        "    for count in range(n):\n",
        "        res *= x\n",
        "    return res\n",
        "\n",
        "myPow(4, 2)"
      ]
    },
    {
      "cell_type": "markdown",
      "metadata": {
        "id": "TJgoW7rjFpu4"
      },
      "source": [
        "### Downloading your workbook"
      ]
    },
    {
      "cell_type": "markdown",
      "metadata": {
        "id": "nplxlGbuFpu5"
      },
      "source": [
        "Please note even if you are Jupyter on your computer (ie. not on a network) the Jupyter notebook runs as a server, so you are not running and editing a file on your filing system. So to obtain your workbook (to use on a different computer or upload as an assignment, etc.) it must be downloaded to your file system. To do this...  "
      ]
    },
    {
      "cell_type": "markdown",
      "metadata": {
        "id": "0R070l6bFpu6"
      },
      "source": [
        "<div class=\"alert alert-block alert-info\">Goto the <b>\"File\"</b> menu and select the <b>\"Download as\"</b> item. You can then select <b>\"notebook (ipynb)\"</b> to download.</div>"
      ]
    }
  ],
  "metadata": {
    "colab": {
      "provenance": []
    },
    "kernelspec": {
      "display_name": "Python 3",
      "language": "python",
      "name": "python3"
    },
    "language_info": {
      "codemirror_mode": {
        "name": "ipython",
        "version": 3
      },
      "file_extension": ".py",
      "mimetype": "text/x-python",
      "name": "python",
      "nbconvert_exporter": "python",
      "pygments_lexer": "ipython3",
      "version": "3.8.8"
    }
  },
  "nbformat": 4,
  "nbformat_minor": 0
}