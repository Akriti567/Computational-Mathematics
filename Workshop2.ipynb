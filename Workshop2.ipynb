{
  "cells": [
    {
      "cell_type": "markdown",
      "metadata": {
        "id": "ZmrEq3JY6-g8"
      },
      "source": [
        "1. Write a program to calculate f(x) = sin(x) where x is in\n",
        "degree.\n"
      ]
    },
    {
      "cell_type": "code",
      "execution_count": null,
      "metadata": {
        "colab": {
          "base_uri": "https://localhost:8080/"
        },
        "id": "ZKLayFbc7GVY",
        "outputId": "c7b69a2a-ffd9-4dfb-b9c8-31c469ed0de7"
      },
      "outputs": [
        {
          "name": "stdout",
          "output_type": "stream",
          "text": [
            "Enter your value in degree: 5\n",
            "0.08715574274765817\n"
          ]
        }
      ],
      "source": [
        "import math;\n",
        "\n",
        "def f(x):\n",
        "  radian = n* (math.pi / 180)\n",
        "  value = math.sin(radian)\n",
        "\n",
        "  return value\n",
        "\n",
        "n= int(input(\"Enter your value in degree: \"))\n",
        "print(f(n))"
      ]
    },
    {
      "cell_type": "markdown",
      "metadata": {
        "id": "vUg2apbV7Qx6"
      },
      "source": [
        " 2.Create a function that accepts a list of numbers and\n",
        "returns the sum of elements on the list.\n",
        "For example:\n",
        "If a list [1, 3, 6, 8, 12] is passed as an argument to a function,\n",
        "the function should return a value of 30.\n"
      ]
    },
    {
      "cell_type": "code",
      "execution_count": null,
      "metadata": {
        "colab": {
          "base_uri": "https://localhost:8080/"
        },
        "id": "xvvBx3Pm70MH",
        "outputId": "3531e0b2-30cd-4ac8-e207-147e09a2a894"
      },
      "outputs": [
        {
          "name": "stdout",
          "output_type": "stream",
          "text": [
            "15\n"
          ]
        }
      ],
      "source": [
        "def h(x):\n",
        "  y = 0 \n",
        "  for values in x:\n",
        "    y += values\n",
        "  return y\n",
        "\n",
        "numbers=[0,1,2,3,4,5]\n",
        "print (h(numbers))"
      ]
    },
    {
      "cell_type": "markdown",
      "metadata": {
        "id": "4zNqTysz70n7"
      },
      "source": [
        "3.Write a program to calculate the sum of digit of a\n",
        "number using fuction."
      ]
    },
    {
      "cell_type": "code",
      "execution_count": null,
      "metadata": {
        "colab": {
          "base_uri": "https://localhost:8080/"
        },
        "id": "KryFw94G7581",
        "outputId": "38d450de-ac2a-4b39-9a31-f1a94038a863"
      },
      "outputs": [
        {
          "name": "stdout",
          "output_type": "stream",
          "text": [
            "Enter your number for the program:10\n",
            "1\n"
          ]
        }
      ],
      "source": [
        "def getSum(n):\n",
        "    \n",
        "    sum = 0\n",
        "    while (n != 0):\n",
        "       \n",
        "        sum = sum + (n % 10)\n",
        "        n = n//10\n",
        "       \n",
        "    return sum\n",
        "   \n",
        "n = int(input(\"Enter your number for the program:\"))\n",
        "print(getSum(n))"
      ]
    },
    {
      "cell_type": "markdown",
      "metadata": {
        "id": "eqEv50An763T"
      },
      "source": [
        "4.Write a program to calculate the smallest divisor of a\n",
        "number using function.\n",
        "for example: samllest divisor of 15 is 3.\n"
      ]
    },
    {
      "cell_type": "code",
      "execution_count": null,
      "metadata": {
        "colab": {
          "base_uri": "https://localhost:8080/"
        },
        "id": "x4yuc8Uu8BBE",
        "outputId": "8565e155-ec14-4be7-d16a-223130b841ae"
      },
      "outputs": [
        {
          "name": "stdout",
          "output_type": "stream",
          "text": [
            "Please enter a number for the calculation:20\n",
            "The smallest divisor for 20 is 2. \n"
          ]
        }
      ],
      "source": [
        "def smallest(divisor):\n",
        "  for i in range(2,number+1):\n",
        "    rem = number%i\n",
        "    if (rem==0):\n",
        "      print (\"The smallest divisor for {} is {}. \".format(number,i))\n",
        "      break\n",
        "number = int(input(\"Please enter a number for the calculation:\"))\n",
        "smallest(number)"
      ]
    },
    {
      "cell_type": "markdown",
      "metadata": {
        "id": "Bg_I3eZa8Bp1"
      },
      "source": [
        "5.Write a program to check a given number is perfect\n",
        "number or not using function. \n"
      ]
    },
    {
      "cell_type": "markdown",
      "metadata": {
        "id": "ezaZVCRC8QRP"
      },
      "source": [
        "A positive integer is called a perfect number if it is equal to the sum of all of its\n",
        "divisors, including 1 but excluding the number itself. For example, 6 = 1 + 2 + 3. "
      ]
    },
    {
      "cell_type": "code",
      "execution_count": null,
      "metadata": {
        "colab": {
          "base_uri": "https://localhost:8080/"
        },
        "id": "lhhhsh0L8v4-",
        "outputId": "d88c161d-b782-4269-fc52-7186ea064627"
      },
      "outputs": [
        {
          "name": "stdout",
          "output_type": "stream",
          "text": [
            "Enter any number: 28\n",
            "The number is a Perfect number!\n",
            "None\n"
          ]
        }
      ],
      "source": [
        "def f(x):\n",
        "  sum1 = 0\n",
        "  for i in range(1, x):\n",
        "    if(x % i == 0):\n",
        "      sum1 = sum1 + i\n",
        "  if (sum1 == x):\n",
        "    print(\"The number is a Perfect number!\")\n",
        "  else:\n",
        "    print(\"The number is not a Perfect number!\")\n",
        "\n",
        "x = int(input(\"Enter any number: \"))\n",
        "print(f(x))"
      ]
    },
    {
      "cell_type": "markdown",
      "metadata": {
        "id": "dH9UXUAg894S"
      },
      "source": [
        "6.Write a function that takes two integers m and n as\n",
        "arguments and prints out an m×n box consisting of asterisks."
      ]
    },
    {
      "cell_type": "markdown",
      "metadata": {
        "id": "HlZJhVwD9CZL"
      },
      "source": [
        "*\n",
        "for example: rectangle(3,4) should print following output:\n",
        "* * * *\n",
        "* * * *\n",
        "* * * *\n"
      ]
    },
    {
      "cell_type": "code",
      "execution_count": null,
      "metadata": {
        "colab": {
          "base_uri": "https://localhost:8080/"
        },
        "id": "qA_Yu1it9LQf",
        "outputId": "a3c44665-49f1-44cf-d0b1-702076a3b5d0"
      },
      "outputs": [
        {
          "name": "stdout",
          "output_type": "stream",
          "text": [
            "Enter your row for matrix:4\n",
            "Enter your column for matrix:3\n",
            "* * * * \n",
            "* * * * \n",
            "* * * * \n"
          ]
        }
      ],
      "source": [
        "def f(i,j):\n",
        "  for j in range(1, j+1):\n",
        "    for i in range(1,i+1):\n",
        "      print(\"*\", end=\" \")\n",
        "    print()\n",
        "i= int(input(\"Enter your row for matrix:\"))\n",
        "j= int(input(\"Enter your column for matrix:\"))\n",
        "f(i,j)"
      ]
    },
    {
      "cell_type": "markdown",
      "metadata": {
        "id": "VFqwFf609MPJ"
      },
      "source": [
        "7.Write a python program to create a matrix of dimensions\n",
        "m x n without using any additional libraries and display the \n",
        "values. "
      ]
    },
    {
      "cell_type": "code",
      "execution_count": 4,
      "metadata": {
        "colab": {
          "base_uri": "https://localhost:8080/",
          "height": 0
        },
        "id": "uLxrVzFKYt3e",
        "outputId": "8987d842-7032-40b3-fcc8-74dd262dbf1b"
      },
      "outputs": [
        {
          "output_type": "stream",
          "name": "stdout",
          "text": [
            "[[1, 1], [1, 1]]\n"
          ]
        }
      ],
      "source": [
        "def create_matrix(m,n):\n",
        "    matrix = [[0 for j in range (n)] for j in range (m)]\n",
        "    for i in range(m):\n",
        "        for j in range(n):\n",
        "            matrix[i][j] = 1\n",
        "    return matrix\n",
        "\n",
        "a = create_matrix(2,2)\n",
        "print(a)"
      ]
    },
    {
      "cell_type": "markdown",
      "metadata": {
        "id": "9kGmgJVL9SKM"
      },
      "source": [
        "**8.Write a program for addition of two matrices.**\n"
      ]
    },
    {
      "cell_type": "code",
      "execution_count": null,
      "metadata": {
        "colab": {
          "base_uri": "https://localhost:8080/"
        },
        "id": "z5BWF9PP9njJ",
        "outputId": "414db867-92a7-46a8-c51e-68bb076ba2ea"
      },
      "outputs": [
        {
          "name": "stdout",
          "output_type": "stream",
          "text": [
            "ENter number of rows: 3\n",
            "ENter number of column: 2\n",
            "\n",
            "Enter values for matrix A\n",
            "column 1 -> ENter 1 element:4\n",
            "column 2 -> ENter 1 element:2\n",
            "column 1 -> ENter 2 element:3\n",
            "column 2 -> ENter 2 element:5\n",
            "column 1 -> ENter 3 element:7\n",
            "column 2 -> ENter 3 element:8\n",
            "\n",
            "Enter values for matrix B \n",
            "column 1 -> ENter 1 element:4\n",
            "column 2 -> ENter 1 element:5\n",
            "column 1 -> ENter 2 element:12\n",
            "column 2 -> ENter 2 element:11\n",
            "column 1 -> ENter 3 element:14\n",
            "column 2 -> ENter 3 element:15\n",
            "\n",
            "Matrix-A :\n",
            "[4, 2]\n",
            "[3, 5]\n",
            "[7, 8]\n",
            "\n",
            "Matrix-B :\n",
            "[4, 5]\n",
            "[12, 11]\n",
            "[14, 15]\n",
            "\n",
            "Addition of Matrix-A and Matrix-B is :\n",
            "[8, 7]\n",
            "[15, 16]\n",
            "[21, 23]\n"
          ]
        }
      ],
      "source": [
        "rows = int(input('Enter number of rows: '))\n",
        "cols  = int(input('Enter number of column: '))\n",
        "\n",
        "print() # for new line\n",
        "print('Enter values for matrix A')\n",
        "\n",
        "matrix_A = [[int(input(f\"column {j+1} -> Enter {i+1} element:\")) for j in range(cols)] for i in range(rows) ]  \n",
        "\n",
        "print() # for new line\n",
        "print('Enter values for matrix B ')\n",
        "matrix_B = [[int(input(f\"column {j+1} -> Enter {i+1} element:\")) for j in range(cols)] for i in range(rows) ]  \n",
        "\n",
        "print() #for new line\n",
        "\n",
        "print('Matrix-A :')\n",
        "for i in matrix_A:\n",
        "    print(i)\n",
        "\n",
        "print() #for new line\n",
        "\n",
        "print('Matrix-B :')\n",
        "for i in matrix_B:\n",
        "    print(i)\n",
        "\n",
        "# resultant matrix (matrix that store answer and intially it is Zero)\n",
        "result = [[0 for j in range(cols)] for i in range(rows)]\n",
        "# addition\n",
        "for i in range(rows):\n",
        "    for j in range(cols):\n",
        "        result[i][j] = matrix_A[i][j] + matrix_B[i][j]\n",
        "\n",
        "print() #for new line\n",
        "print('Addition of Matrix-A and Matrix-B is :')\n",
        "\n",
        "for i in result:\n",
        "    print(i)"
      ]
    },
    {
      "cell_type": "markdown",
      "metadata": {
        "id": "FDYZoFcT96ZR"
      },
      "source": [
        "9.Write a program to identify the given matrix is diagonal\n",
        "matrix or not."
      ]
    },
    {
      "cell_type": "code",
      "execution_count": 1,
      "metadata": {
        "id": "QKzFaILB9_7x",
        "colab": {
          "base_uri": "https://localhost:8080/",
          "height": 0
        },
        "outputId": "3630fad8-bec4-4fa8-a37b-752490b834c1"
      },
      "outputs": [
        {
          "output_type": "stream",
          "name": "stdout",
          "text": [
            "True\n"
          ]
        }
      ],
      "source": [
        "def check_diagonal_matrix(matrix):\n",
        "    for i in range(len(matrix)):\n",
        "        for j in range(len(matrix[i])):\n",
        "            if i != j and matrix[i][j] != 0:\n",
        "                return False\n",
        "    return True\n",
        "\n",
        "matrix = [[1, 0, 0], [0, 2, 0], [0, 0, 3]]  \n",
        "\n",
        "print(check_diagonal_matrix(matrix))"
      ]
    },
    {
      "cell_type": "markdown",
      "metadata": {
        "id": "2aMAQiZd68D-"
      },
      "source": []
    }
  ],
  "metadata": {
    "colab": {
      "provenance": []
    },
    "kernelspec": {
      "display_name": "Python 3",
      "name": "python3"
    },
    "language_info": {
      "name": "python"
    }
  },
  "nbformat": 4,
  "nbformat_minor": 0
}